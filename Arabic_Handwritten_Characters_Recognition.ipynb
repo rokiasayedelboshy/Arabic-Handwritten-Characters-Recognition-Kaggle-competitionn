{
  "nbformat": 4,
  "nbformat_minor": 0,
  "metadata": {
    "kernelspec": {
      "language": "python",
      "display_name": "Python 3",
      "name": "python3"
    },
    "language_info": {
      "pygments_lexer": "ipython3",
      "nbconvert_exporter": "python",
      "version": "3.6.4",
      "file_extension": ".py",
      "codemirror_mode": {
        "name": "ipython",
        "version": 3
      },
      "name": "python",
      "mimetype": "text/x-python"
    },
    "colab": {
      "name": "Arabic Handwritten Characters Recognition.ipynb",
      "provenance": [],
      "collapsed_sections": []
    }
  },
  "cells": [
    {
      "cell_type": "code",
      "metadata": {
        "execution": {
          "iopub.status.busy": "2021-11-06T14:39:52.924619Z",
          "iopub.execute_input": "2021-11-06T14:39:52.925466Z",
          "iopub.status.idle": "2021-11-06T14:39:59.388515Z",
          "shell.execute_reply.started": "2021-11-06T14:39:52.925421Z",
          "shell.execute_reply": "2021-11-06T14:39:59.38771Z"
        },
        "trusted": true,
        "id": "drzOsctDjXej"
      },
      "source": [
        "import numpy as np\n",
        "import os\n",
        "import PIL\n",
        "import PIL.Image\n",
        "import tensorflow as tf\n",
        "import tensorflow_datasets as tfds\n",
        "import pandas as pd\n",
        "import matplotlib.pyplot as plt"
      ],
      "execution_count": null,
      "outputs": []
    },
    {
      "cell_type": "code",
      "metadata": {
        "execution": {
          "iopub.status.busy": "2021-11-06T14:39:59.392322Z",
          "iopub.execute_input": "2021-11-06T14:39:59.392552Z",
          "iopub.status.idle": "2021-11-06T14:39:59.398742Z",
          "shell.execute_reply.started": "2021-11-06T14:39:59.392525Z",
          "shell.execute_reply": "2021-11-06T14:39:59.397941Z"
        },
        "trusted": true,
        "id": "Z8qfSqShjXek"
      },
      "source": [
        "import pathlib\n",
        "\n",
        "data_dir = '/kaggle/input/arabic-hwr-ai-pro-intake1/train/'\n",
        "data_dir = pathlib.Path(data_dir)\n"
      ],
      "execution_count": null,
      "outputs": []
    },
    {
      "cell_type": "code",
      "metadata": {
        "execution": {
          "iopub.status.busy": "2021-11-06T14:39:59.401618Z",
          "iopub.execute_input": "2021-11-06T14:39:59.401969Z",
          "iopub.status.idle": "2021-11-06T14:39:59.417865Z",
          "shell.execute_reply.started": "2021-11-06T14:39:59.401926Z",
          "shell.execute_reply": "2021-11-06T14:39:59.417001Z"
        },
        "trusted": true,
        "id": "5xEB1IRCjXek"
      },
      "source": [
        "data_dir"
      ],
      "execution_count": null,
      "outputs": []
    },
    {
      "cell_type": "code",
      "metadata": {
        "execution": {
          "iopub.status.busy": "2021-11-06T14:39:59.419683Z",
          "iopub.execute_input": "2021-11-06T14:39:59.419924Z",
          "iopub.status.idle": "2021-11-06T14:39:59.427223Z",
          "shell.execute_reply.started": "2021-11-06T14:39:59.419881Z",
          "shell.execute_reply": "2021-11-06T14:39:59.426668Z"
        },
        "trusted": true,
        "id": "-3YXMO4hjXek"
      },
      "source": [
        "batch_size = 32\n",
        "img_height = 32\n",
        "img_width = 32\n"
      ],
      "execution_count": null,
      "outputs": []
    },
    {
      "cell_type": "code",
      "metadata": {
        "execution": {
          "iopub.status.busy": "2021-11-06T14:39:59.429525Z",
          "iopub.execute_input": "2021-11-06T14:39:59.429793Z",
          "iopub.status.idle": "2021-11-06T14:39:59.662247Z",
          "shell.execute_reply.started": "2021-11-06T14:39:59.429764Z",
          "shell.execute_reply": "2021-11-06T14:39:59.661513Z"
        },
        "trusted": true,
        "id": "z5FypNB1jXel"
      },
      "source": [
        "\n",
        "import glob\n",
        "filelist = glob.glob('/kaggle/input/arabic-hwr-ai-pro-intake1/train/*.png')\n"
      ],
      "execution_count": null,
      "outputs": []
    },
    {
      "cell_type": "code",
      "metadata": {
        "execution": {
          "iopub.status.busy": "2021-11-06T14:39:59.663353Z",
          "iopub.execute_input": "2021-11-06T14:39:59.66368Z",
          "iopub.status.idle": "2021-11-06T14:39:59.672596Z",
          "shell.execute_reply.started": "2021-11-06T14:39:59.663652Z",
          "shell.execute_reply": "2021-11-06T14:39:59.671723Z"
        },
        "trusted": true,
        "id": "tQbd7KFFjXel"
      },
      "source": [
        "\n",
        "filelist.sort()"
      ],
      "execution_count": null,
      "outputs": []
    },
    {
      "cell_type": "code",
      "metadata": {
        "execution": {
          "iopub.status.busy": "2021-11-06T14:39:59.673894Z",
          "iopub.execute_input": "2021-11-06T14:39:59.674221Z",
          "iopub.status.idle": "2021-11-06T14:40:39.90525Z",
          "shell.execute_reply.started": "2021-11-06T14:39:59.674194Z",
          "shell.execute_reply": "2021-11-06T14:40:39.904202Z"
        },
        "trusted": true,
        "id": "FNtkYJZejXel"
      },
      "source": [
        "\n",
        "from PIL import Image, ImageOps\n",
        "x = np.array([np.array(Image.open(fname)) for fname in filelist])\n"
      ],
      "execution_count": null,
      "outputs": []
    },
    {
      "cell_type": "code",
      "metadata": {
        "execution": {
          "iopub.status.busy": "2021-11-06T14:40:39.906665Z",
          "iopub.execute_input": "2021-11-06T14:40:39.906984Z",
          "iopub.status.idle": "2021-11-06T14:40:39.912588Z",
          "shell.execute_reply.started": "2021-11-06T14:40:39.906942Z",
          "shell.execute_reply": "2021-11-06T14:40:39.91144Z"
        },
        "trusted": true,
        "id": "3wW556SSjXem"
      },
      "source": [
        ""
      ],
      "execution_count": null,
      "outputs": []
    },
    {
      "cell_type": "code",
      "metadata": {
        "execution": {
          "iopub.status.busy": "2021-11-04T20:18:20.643761Z",
          "iopub.execute_input": "2021-11-04T20:18:20.64445Z",
          "iopub.status.idle": "2021-11-04T20:18:20.660389Z",
          "shell.execute_reply.started": "2021-11-04T20:18:20.644395Z",
          "shell.execute_reply": "2021-11-04T20:18:20.659411Z"
        },
        "trusted": true,
        "colab": {
          "base_uri": "https://localhost:8080/",
          "height": 34
        },
        "id": "i-HD6UUEjXem",
        "outputId": "01524e68-3deb-455e-f925-1670c2aa037b"
      },
      "source": [
        "\"\"\"\n",
        "# make sure all images are 32x32\n",
        "#im = Image.open(filelist[0])\n",
        "for i in filelist:\n",
        "    img = Image.open(i)\n",
        "    if img.size == (32,32):\n",
        "        print(i)\n",
        "        break\n",
        "\"\"\""
      ],
      "execution_count": 1,
      "outputs": [
        {
          "output_type": "execute_result",
          "data": {
            "application/vnd.google.colaboratory.intrinsic+json": {
              "type": "string"
            },
            "text/plain": [
              "'\\n# make sure all images are 32x32\\n#im = Image.open(filelist[0])\\nfor i in filelist:\\n    img = Image.open(i)\\n    if img.size == (32,32):\\n        print(i)\\n        break\\n'"
            ]
          },
          "metadata": {},
          "execution_count": 1
        }
      ]
    },
    {
      "cell_type": "code",
      "metadata": {
        "execution": {
          "iopub.status.busy": "2021-11-06T14:40:39.913672Z",
          "iopub.execute_input": "2021-11-06T14:40:39.913906Z",
          "iopub.status.idle": "2021-11-06T14:40:39.952444Z",
          "shell.execute_reply.started": "2021-11-06T14:40:39.913878Z",
          "shell.execute_reply": "2021-11-06T14:40:39.951484Z"
        },
        "trusted": true,
        "id": "MHGyywpRjXen"
      },
      "source": [
        "labelsCol = pd.read_csv('/kaggle/input/arabic-hwr-ai-pro-intake1/train.csv')['label']"
      ],
      "execution_count": null,
      "outputs": []
    },
    {
      "cell_type": "code",
      "metadata": {
        "execution": {
          "iopub.status.busy": "2021-11-06T14:40:39.955027Z",
          "iopub.execute_input": "2021-11-06T14:40:39.955257Z",
          "iopub.status.idle": "2021-11-06T14:40:40.403352Z",
          "shell.execute_reply.started": "2021-11-06T14:40:39.955229Z",
          "shell.execute_reply": "2021-11-06T14:40:40.40241Z"
        },
        "trusted": true,
        "id": "sKk6U_sJjXen"
      },
      "source": [
        "plt.hist(labelsCol, bins=28)"
      ],
      "execution_count": null,
      "outputs": []
    },
    {
      "cell_type": "code",
      "metadata": {
        "execution": {
          "iopub.status.busy": "2021-11-06T14:40:40.404716Z",
          "iopub.execute_input": "2021-11-06T14:40:40.40495Z",
          "iopub.status.idle": "2021-11-06T14:40:40.412729Z",
          "shell.execute_reply.started": "2021-11-06T14:40:40.404922Z",
          "shell.execute_reply": "2021-11-06T14:40:40.411578Z"
        },
        "trusted": true,
        "id": "GDNN9INXjXen"
      },
      "source": [
        "labelsCol = np.array(labelsCol)\n",
        "labelsCol.shape"
      ],
      "execution_count": null,
      "outputs": []
    },
    {
      "cell_type": "code",
      "metadata": {
        "execution": {
          "iopub.status.busy": "2021-11-06T14:40:40.414633Z",
          "iopub.execute_input": "2021-11-06T14:40:40.415019Z",
          "iopub.status.idle": "2021-11-06T14:40:41.17904Z",
          "shell.execute_reply.started": "2021-11-06T14:40:40.414977Z",
          "shell.execute_reply": "2021-11-06T14:40:41.17808Z"
        },
        "trusted": true,
        "id": "G0gR_MqLjXeo"
      },
      "source": [
        "from sklearn.model_selection import train_test_split\n",
        "\n",
        "X_train, X_test, y_train, y_test = train_test_split(x, labelsCol, test_size=0.2, random_state=42)"
      ],
      "execution_count": null,
      "outputs": []
    },
    {
      "cell_type": "code",
      "metadata": {
        "execution": {
          "iopub.status.busy": "2021-11-06T14:40:41.180773Z",
          "iopub.execute_input": "2021-11-06T14:40:41.181353Z",
          "iopub.status.idle": "2021-11-06T14:40:41.375083Z",
          "shell.execute_reply.started": "2021-11-06T14:40:41.181297Z",
          "shell.execute_reply": "2021-11-06T14:40:41.374124Z"
        },
        "trusted": true,
        "id": "SoQIxVOXjXeo"
      },
      "source": [
        "X_train = X_train / 255\n",
        "X_test = X_test / 255"
      ],
      "execution_count": null,
      "outputs": []
    },
    {
      "cell_type": "code",
      "metadata": {
        "execution": {
          "iopub.status.busy": "2021-11-06T14:40:41.376665Z",
          "iopub.execute_input": "2021-11-06T14:40:41.376908Z",
          "iopub.status.idle": "2021-11-06T14:40:41.381812Z",
          "shell.execute_reply.started": "2021-11-06T14:40:41.376879Z",
          "shell.execute_reply": "2021-11-06T14:40:41.380979Z"
        },
        "trusted": true,
        "id": "HrKqKYUQjXeo"
      },
      "source": [
        "# making labels from 0 to 27 instead of 1 to 28\n",
        "y_train = y_train - 1\n",
        "y_test = y_test - 1"
      ],
      "execution_count": null,
      "outputs": []
    },
    {
      "cell_type": "code",
      "metadata": {
        "execution": {
          "iopub.status.busy": "2021-11-06T14:40:41.383088Z",
          "iopub.execute_input": "2021-11-06T14:40:41.383306Z",
          "iopub.status.idle": "2021-11-06T14:40:41.395052Z",
          "shell.execute_reply.started": "2021-11-06T14:40:41.383278Z",
          "shell.execute_reply": "2021-11-06T14:40:41.393953Z"
        },
        "trusted": true,
        "id": "U0tU_rLnjXep"
      },
      "source": [
        "X_train.shape"
      ],
      "execution_count": null,
      "outputs": []
    },
    {
      "cell_type": "code",
      "metadata": {
        "execution": {
          "iopub.status.busy": "2021-11-04T20:18:22.431051Z",
          "iopub.execute_input": "2021-11-04T20:18:22.431467Z",
          "iopub.status.idle": "2021-11-04T20:18:22.44463Z",
          "shell.execute_reply.started": "2021-11-04T20:18:22.431417Z",
          "shell.execute_reply": "2021-11-04T20:18:22.443942Z"
        },
        "trusted": true,
        "id": "L8ATJGdEjXep"
      },
      "source": [
        "\"\"\"\n",
        "from tensorflow.keras import Sequential\n",
        "from tensorflow.keras.layers import Dense, Flatten,Dropout\n",
        "from tensorflow.keras import regularizers\n",
        "\"\"\""
      ],
      "execution_count": null,
      "outputs": []
    },
    {
      "cell_type": "code",
      "metadata": {
        "execution": {
          "iopub.status.busy": "2021-11-04T20:18:22.446187Z",
          "iopub.execute_input": "2021-11-04T20:18:22.446761Z",
          "iopub.status.idle": "2021-11-04T20:18:22.459661Z",
          "shell.execute_reply.started": "2021-11-04T20:18:22.446721Z",
          "shell.execute_reply": "2021-11-04T20:18:22.458765Z"
        },
        "trusted": true,
        "id": "XjhO_UjVjXeq"
      },
      "source": [
        "# feed forward network:\n",
        "\"\"\"\n",
        "model = Sequential([Flatten(input_shape=(32,32)), \n",
        "                    Dense(256, activation=tf.nn.relu, kernel_regularizer=regularizers.l2(0.003)), \n",
        "                    \n",
        "                    Dense(256, activation=tf.nn.relu), \n",
        "                    \n",
        "                    Dense(64, activation=tf.nn.relu),\n",
        "\n",
        "                    Dense(28, activation=tf.nn.softmax)])\n",
        "\"\"\""
      ],
      "execution_count": null,
      "outputs": []
    },
    {
      "cell_type": "code",
      "metadata": {
        "execution": {
          "iopub.status.busy": "2021-11-04T20:18:22.464608Z",
          "iopub.execute_input": "2021-11-04T20:18:22.465059Z",
          "iopub.status.idle": "2021-11-04T20:18:22.473944Z",
          "shell.execute_reply.started": "2021-11-04T20:18:22.465001Z",
          "shell.execute_reply": "2021-11-04T20:18:22.472957Z"
        },
        "trusted": true,
        "id": "wIykb4AqjXeq"
      },
      "source": [
        "#model.summary()"
      ],
      "execution_count": null,
      "outputs": []
    },
    {
      "cell_type": "code",
      "metadata": {
        "execution": {
          "iopub.status.busy": "2021-11-04T20:18:22.475535Z",
          "iopub.execute_input": "2021-11-04T20:18:22.476094Z",
          "iopub.status.idle": "2021-11-04T20:18:22.489004Z",
          "shell.execute_reply.started": "2021-11-04T20:18:22.476039Z",
          "shell.execute_reply": "2021-11-04T20:18:22.48811Z"
        },
        "trusted": true,
        "id": "NNeTRlmIjXer"
      },
      "source": [
        "\"\"\"\n",
        "model.compile(optimizer = tf.optimizers.Adam(),\n",
        "              loss = 'sparse_categorical_crossentropy',\n",
        "              metrics=['accuracy'])\n",
        "\"\"\""
      ],
      "execution_count": null,
      "outputs": []
    },
    {
      "cell_type": "code",
      "metadata": {
        "execution": {
          "iopub.status.busy": "2021-11-06T14:40:41.396092Z",
          "iopub.execute_input": "2021-11-06T14:40:41.396299Z",
          "iopub.status.idle": "2021-11-06T14:40:42.546056Z",
          "shell.execute_reply.started": "2021-11-06T14:40:41.396274Z",
          "shell.execute_reply": "2021-11-06T14:40:42.545067Z"
        },
        "trusted": true,
        "id": "DhM1oUqsjXer"
      },
      "source": [
        "import tensorflow as tf\n",
        "\n",
        "from tensorflow.keras import datasets, layers, models\n",
        "import matplotlib.pyplot as plt"
      ],
      "execution_count": null,
      "outputs": []
    },
    {
      "cell_type": "code",
      "metadata": {
        "execution": {
          "iopub.status.busy": "2021-11-06T15:13:40.735958Z",
          "iopub.execute_input": "2021-11-06T15:13:40.736969Z",
          "iopub.status.idle": "2021-11-06T15:13:41.028827Z",
          "shell.execute_reply.started": "2021-11-06T15:13:40.736928Z",
          "shell.execute_reply": "2021-11-06T15:13:41.028079Z"
        },
        "trusted": true,
        "id": "-OUcCSK6jXes"
      },
      "source": [
        "# My new networkkkkkkkkkkk (cnn)\n",
        "\n",
        "# .STARTED EDITING BEFORE DOING BATCH NORM. WILL TRY BATCH NORM W/ PREVIOUS RESULT FIRST.\n",
        "\n",
        "kernel_initializer = 'uniform'\n",
        "model = models.Sequential()\n",
        "\n",
        "model.add(layers.BatchNormalization(input_shape=(32, 32, 4)))\n",
        "\n",
        "model.add(layers.Conv2D(16, (3, 3),padding='same', activation='relu', kernel_initializer=kernel_initializer))\n",
        "model.add(layers.Dropout(0.1))\n",
        "model.add(layers.BatchNormalization())\n",
        "model.add(layers.Conv2D(16, (3, 3),padding='same', activation='relu', kernel_initializer=kernel_initializer))\n",
        "model.add(layers.Dropout(0.1))\n",
        "\n",
        "model.add(layers.MaxPooling2D((2, 2)))\n",
        "#model.add(layers.Dropout(0.2))\n",
        "\n",
        "\n",
        "\n",
        "model.add(layers.BatchNormalization())\n",
        "model.add(layers.Conv2D(16, (3, 3),padding='same', activation='relu', kernel_initializer=kernel_initializer))\n",
        "model.add(layers.Dropout(0.1))\n",
        "model.add(layers.BatchNormalization())\n",
        "model.add(layers.Conv2D(16, (3, 3),padding='same', activation='relu', kernel_initializer=kernel_initializer))\n",
        "model.add(layers.Dropout(0.1))\n",
        "\n",
        "\n",
        "model.add(layers.MaxPooling2D((2, 2)))\n",
        "\n",
        "#AveragePooling2D\n",
        "\n",
        "model.add(layers.BatchNormalization())\n",
        "model.add(layers.Conv2D(32, (3, 3),padding='same', activation='relu', kernel_initializer=kernel_initializer))\n",
        "model.add(layers.Dropout(0.1))\n",
        "model.add(layers.BatchNormalization())\n",
        "model.add(layers.Conv2D(32, (3, 3),padding='same', activation='relu', kernel_initializer=kernel_initializer))\n",
        "model.add(layers.Dropout(0.1))\n",
        "\n",
        "#model.add(layers.Dropout(0.2))\n",
        "model.add(layers.MaxPooling2D((2, 2)))\n",
        "\n",
        "\n",
        "model.add(layers.BatchNormalization())\n",
        "model.add(layers.Conv2D(64, (3, 3),padding='same', activation='relu',kernel_initializer=kernel_initializer))\n",
        "model.add(layers.Dropout(0.1))\n",
        "model.add(layers.BatchNormalization())\n",
        "model.add(layers.Conv2D(64, (3, 3),padding='same', activation='relu',kernel_initializer=kernel_initializer))\n",
        "model.add(layers.Dropout(0.1))\n",
        "\n",
        "\n",
        "#model.add(layers.BatchNormalization())\n",
        "#model.add(layers.Dropout(0.2))\n",
        "model.add(layers.MaxPooling2D((2, 2)))\n",
        "\n",
        "#model.add(layers.Flatten())\n",
        "model.add(layers.GlobalAveragePooling2D())\n",
        "model.add(layers.BatchNormalization())\n",
        "\n",
        "#model.add(layers.Dense(32, activation='relu'))\n",
        "model.add(layers.Dense(64, activation='relu'))\n",
        "model.add(layers.BatchNormalization())\n",
        "\n",
        "\n",
        "model.add(layers.Dense(28, activation=tf.nn.softmax))\n"
      ],
      "execution_count": null,
      "outputs": []
    },
    {
      "cell_type": "code",
      "metadata": {
        "trusted": true,
        "id": "IpfYahlJjXet"
      },
      "source": [
        ""
      ],
      "execution_count": null,
      "outputs": []
    },
    {
      "cell_type": "code",
      "metadata": {
        "execution": {
          "iopub.status.busy": "2021-11-06T14:51:28.253015Z",
          "iopub.execute_input": "2021-11-06T14:51:28.25335Z",
          "iopub.status.idle": "2021-11-06T14:51:28.260877Z",
          "shell.execute_reply.started": "2021-11-06T14:51:28.253317Z",
          "shell.execute_reply": "2021-11-06T14:51:28.26017Z"
        },
        "trusted": true,
        "id": "cDUJnW4JjXet"
      },
      "source": [
        "# My new networkkkkkkkkkkk (cnn)\n",
        "#BEST MODEL SO FAR\n",
        "\"\"\"\n",
        "kernel_initializer = 'glorot_uniform'\n",
        "model = models.Sequential()\n",
        "model.add(layers.Conv2D(16, (3, 3),padding='same', activation='relu', input_shape=(32, 32, 4), kernel_initializer=kernel_initializer))\n",
        "#model.add(layers.BatchNormalization())\n",
        "model.add(layers.MaxPooling2D((2, 2)))\n",
        "#model.add(layers.Dropout(0.2))\n",
        "\n",
        "\n",
        "model.add(layers.Conv2D(16, (3, 3),padding='same', activation='relu', kernel_initializer=kernel_initializer))\n",
        "#model.add(layers.BatchNormalization())\n",
        "model.add(layers.MaxPooling2D((2, 2)))\n",
        "model.add(layers.Dropout(0.2))\n",
        "\n",
        "\n",
        "model.add(layers.Conv2D(32, (3, 3),padding='same', activation='relu', kernel_initializer=kernel_initializer))\n",
        "#model.add(layers.BatchNormalization())\n",
        "#model.add(layers.Dropout(0.2))\n",
        "model.add(layers.MaxPooling2D((2, 2)))\n",
        "\n",
        "\n",
        "model.add(layers.Conv2D(256, (3, 3),padding='same', activation='relu',kernel_initializer=kernel_initializer))\n",
        "#model.add(layers.BatchNormalization())\n",
        "#model.add(layers.Dropout(0.2))\n",
        "model.add(layers.MaxPooling2D((2, 2)))\n",
        "\n",
        "#model.add(layers.Flatten())\n",
        "model.add(layers.GlobalAveragePooling2D())\n",
        "#model.add(layers.Dense(32, activation='relu'))\n",
        "\n",
        "\n",
        "model.add(layers.Dense(28, activation=tf.nn.softmax))\n",
        "\"\"\""
      ],
      "execution_count": null,
      "outputs": []
    },
    {
      "cell_type": "code",
      "metadata": {
        "execution": {
          "iopub.status.busy": "2021-11-06T14:54:49.378556Z",
          "iopub.execute_input": "2021-11-06T14:54:49.379077Z",
          "iopub.status.idle": "2021-11-06T14:54:49.400972Z",
          "shell.execute_reply.started": "2021-11-06T14:54:49.37904Z",
          "shell.execute_reply": "2021-11-06T14:54:49.400323Z"
        },
        "trusted": true,
        "id": "q7xML8yIjXeu"
      },
      "source": [
        "model.summary()"
      ],
      "execution_count": null,
      "outputs": []
    },
    {
      "cell_type": "code",
      "metadata": {
        "execution": {
          "iopub.status.busy": "2021-11-06T15:13:44.572203Z",
          "iopub.execute_input": "2021-11-06T15:13:44.573416Z",
          "iopub.status.idle": "2021-11-06T15:13:44.585575Z",
          "shell.execute_reply.started": "2021-11-06T15:13:44.573335Z",
          "shell.execute_reply": "2021-11-06T15:13:44.584919Z"
        },
        "trusted": true,
        "id": "Lt2rFDQdjXev"
      },
      "source": [
        "model.compile(optimizer='Nadam',\n",
        "              loss=tf.keras.losses.SparseCategoricalCrossentropy(),\n",
        "              metrics=['accuracy'])\n"
      ],
      "execution_count": null,
      "outputs": []
    },
    {
      "cell_type": "code",
      "metadata": {
        "execution": {
          "iopub.status.busy": "2021-11-06T15:13:45.12449Z",
          "iopub.execute_input": "2021-11-06T15:13:45.125696Z",
          "iopub.status.idle": "2021-11-06T15:26:59.346346Z",
          "shell.execute_reply.started": "2021-11-06T15:13:45.125649Z",
          "shell.execute_reply": "2021-11-06T15:26:59.345491Z"
        },
        "trusted": true,
        "id": "-ZCYpc2OjXev"
      },
      "source": [
        " model.fit(X_train, y_train, epochs=50, validation_data=(X_test, y_test) )\n",
        "                    #validation_data=(test_images, test_labels))\n",
        "\n",
        "        "
      ],
      "execution_count": null,
      "outputs": []
    },
    {
      "cell_type": "code",
      "metadata": {
        "execution": {
          "iopub.status.busy": "2021-11-06T14:54:21.178662Z",
          "iopub.execute_input": "2021-11-06T14:54:21.178996Z",
          "iopub.status.idle": "2021-11-06T14:54:22.093578Z",
          "shell.execute_reply.started": "2021-11-06T14:54:21.178952Z",
          "shell.execute_reply": "2021-11-06T14:54:22.093001Z"
        },
        "trusted": true,
        "id": "olpQDvkHjXev"
      },
      "source": [
        "evaluation = model.evaluate(X_test, y_test)\n",
        "print(\"Accuracy on the testing images is {}\".format(evaluation[1]*100))"
      ],
      "execution_count": null,
      "outputs": []
    },
    {
      "cell_type": "code",
      "metadata": {
        "id": "aumz3PvQjXe3"
      },
      "source": [
        ""
      ],
      "execution_count": null,
      "outputs": []
    }
  ]
}